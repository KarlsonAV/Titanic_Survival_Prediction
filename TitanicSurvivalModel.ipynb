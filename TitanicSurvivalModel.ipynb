{
 "cells": [
  {
   "cell_type": "markdown",
   "source": [
    "## 1. Importing Libraries and Dataset"
   ],
   "metadata": {
    "collapsed": false
   }
  },
  {
   "cell_type": "markdown",
   "source": [
    "#### 1.1 Importing Libraries"
   ],
   "metadata": {
    "collapsed": false,
    "pycharm": {
     "name": "#%% md\n"
    }
   }
  },
  {
   "cell_type": "code",
   "source": [
    "import numpy as np\n",
    "import pandas as pd\n",
    "import matplotlib.pyplot as plt\n",
    "import seaborn as sns\n",
    "sns.set_style(\"whitegrid\")\n",
    "\n",
    "from sklearn import preprocessing\n",
    "from sklearn.linear_model import LogisticRegression\n",
    "from sklearn.svm import SVC as SVM\n",
    "from sklearn.naive_bayes import MultinomialNB\n",
    "from sklearn.neighbors import KNeighborsClassifier\n",
    "from sklearn.ensemble import GradientBoostingClassifier, RandomForestClassifier, StackingClassifier\n",
    "from xgboost import XGBClassifier\n",
    "\n",
    "\n",
    "from sklearn.metrics import accuracy_score\n",
    "from sklearn.model_selection import cross_validate, GridSearchCV"
   ],
   "metadata": {
    "collapsed": false,
    "pycharm": {
     "name": "#%%\n"
    }
   },
   "execution_count": 431,
   "outputs": []
  },
  {
   "cell_type": "markdown",
   "source": [
    "#### 1.2 Loading Dataset"
   ],
   "metadata": {
    "collapsed": false,
    "pycharm": {
     "name": "#%% md\n"
    }
   }
  },
  {
   "cell_type": "code",
   "source": [
    "df_train = pd.read_csv(\"titanic/train.csv\")\n",
    "df_test = pd.read_csv(\"titanic/test.csv\")\n",
    "\n",
    "df_train.head()"
   ],
   "metadata": {
    "collapsed": false,
    "pycharm": {
     "name": "#%%\n"
    }
   },
   "execution_count": 432,
   "outputs": [
    {
     "data": {
      "text/plain": "   PassengerId  Survived  Pclass  \\\n0            1         0       3   \n1            2         1       1   \n2            3         1       3   \n3            4         1       1   \n4            5         0       3   \n\n                                                Name     Sex   Age  SibSp  \\\n0                            Braund, Mr. Owen Harris    male  22.0      1   \n1  Cumings, Mrs. John Bradley (Florence Briggs Th...  female  38.0      1   \n2                             Heikkinen, Miss. Laina  female  26.0      0   \n3       Futrelle, Mrs. Jacques Heath (Lily May Peel)  female  35.0      1   \n4                           Allen, Mr. William Henry    male  35.0      0   \n\n   Parch            Ticket     Fare Cabin Embarked  \n0      0         A/5 21171   7.2500   NaN        S  \n1      0          PC 17599  71.2833   C85        C  \n2      0  STON/O2. 3101282   7.9250   NaN        S  \n3      0            113803  53.1000  C123        S  \n4      0            373450   8.0500   NaN        S  ",
      "text/html": "<div>\n<style scoped>\n    .dataframe tbody tr th:only-of-type {\n        vertical-align: middle;\n    }\n\n    .dataframe tbody tr th {\n        vertical-align: top;\n    }\n\n    .dataframe thead th {\n        text-align: right;\n    }\n</style>\n<table border=\"1\" class=\"dataframe\">\n  <thead>\n    <tr style=\"text-align: right;\">\n      <th></th>\n      <th>PassengerId</th>\n      <th>Survived</th>\n      <th>Pclass</th>\n      <th>Name</th>\n      <th>Sex</th>\n      <th>Age</th>\n      <th>SibSp</th>\n      <th>Parch</th>\n      <th>Ticket</th>\n      <th>Fare</th>\n      <th>Cabin</th>\n      <th>Embarked</th>\n    </tr>\n  </thead>\n  <tbody>\n    <tr>\n      <th>0</th>\n      <td>1</td>\n      <td>0</td>\n      <td>3</td>\n      <td>Braund, Mr. Owen Harris</td>\n      <td>male</td>\n      <td>22.0</td>\n      <td>1</td>\n      <td>0</td>\n      <td>A/5 21171</td>\n      <td>7.2500</td>\n      <td>NaN</td>\n      <td>S</td>\n    </tr>\n    <tr>\n      <th>1</th>\n      <td>2</td>\n      <td>1</td>\n      <td>1</td>\n      <td>Cumings, Mrs. John Bradley (Florence Briggs Th...</td>\n      <td>female</td>\n      <td>38.0</td>\n      <td>1</td>\n      <td>0</td>\n      <td>PC 17599</td>\n      <td>71.2833</td>\n      <td>C85</td>\n      <td>C</td>\n    </tr>\n    <tr>\n      <th>2</th>\n      <td>3</td>\n      <td>1</td>\n      <td>3</td>\n      <td>Heikkinen, Miss. Laina</td>\n      <td>female</td>\n      <td>26.0</td>\n      <td>0</td>\n      <td>0</td>\n      <td>STON/O2. 3101282</td>\n      <td>7.9250</td>\n      <td>NaN</td>\n      <td>S</td>\n    </tr>\n    <tr>\n      <th>3</th>\n      <td>4</td>\n      <td>1</td>\n      <td>1</td>\n      <td>Futrelle, Mrs. Jacques Heath (Lily May Peel)</td>\n      <td>female</td>\n      <td>35.0</td>\n      <td>1</td>\n      <td>0</td>\n      <td>113803</td>\n      <td>53.1000</td>\n      <td>C123</td>\n      <td>S</td>\n    </tr>\n    <tr>\n      <th>4</th>\n      <td>5</td>\n      <td>0</td>\n      <td>3</td>\n      <td>Allen, Mr. William Henry</td>\n      <td>male</td>\n      <td>35.0</td>\n      <td>0</td>\n      <td>0</td>\n      <td>373450</td>\n      <td>8.0500</td>\n      <td>NaN</td>\n      <td>S</td>\n    </tr>\n  </tbody>\n</table>\n</div>"
     },
     "execution_count": 432,
     "metadata": {},
     "output_type": "execute_result"
    }
   ]
  },
  {
   "cell_type": "markdown",
   "source": [
    "## 2. Feature Engineering"
   ],
   "metadata": {
    "collapsed": false,
    "pycharm": {
     "name": "#%% md\n"
    }
   }
  },
  {
   "cell_type": "markdown",
   "source": [
    "Firstly i want to check, how many examples of Survived/Not Survived data are there in the training DataSet"
   ],
   "metadata": {
    "collapsed": false,
    "pycharm": {
     "name": "#%% md\n"
    }
   }
  },
  {
   "cell_type": "code",
   "source": [
    "sns.countplot(df_train.Survived)"
   ],
   "metadata": {
    "collapsed": false,
    "pycharm": {
     "name": "#%%\n"
    }
   },
   "execution_count": 433,
   "outputs": [
    {
     "name": "stderr",
     "output_type": "stream",
     "text": [
      "/Library/Frameworks/Python.framework/Versions/3.8/lib/python3.8/site-packages/seaborn/_decorators.py:36: FutureWarning: Pass the following variable as a keyword arg: x. From version 0.12, the only valid positional argument will be `data`, and passing other arguments without an explicit keyword will result in an error or misinterpretation.\n",
      "  warnings.warn(\n"
     ]
    },
    {
     "data": {
      "text/plain": "<AxesSubplot:xlabel='Survived', ylabel='count'>"
     },
     "execution_count": 433,
     "metadata": {},
     "output_type": "execute_result"
    },
    {
     "data": {
      "text/plain": "<Figure size 432x288 with 1 Axes>",
      "image/png": "[encoded data removed]"
     },
     "metadata": {},
     "output_type": "display_data"
    }
   ]
  },
  {
   "cell_type": "markdown",
   "source": [],
   "metadata": {
    "collapsed": false,
    "pycharm": {
     "name": "#%% md\n"
    }
   }
  },
  {
   "cell_type": "code",
   "source": [
    "print(f\"Survived - {df_train.Survived.loc[df_train.Survived == 1].count()}, Not Survived - {df_train.Survived.loc[df_train.Survived == 0].count()}\")"
   ],
   "metadata": {
    "collapsed": false,
    "pycharm": {
     "name": "#%%\n"
    }
   },
   "execution_count": 434,
   "outputs": [
    {
     "name": "stdout",
     "output_type": "stream",
     "text": [
      "Survived - 342, Not Survived - 549\n"
     ]
    }
   ]
  },
  {
   "cell_type": "markdown",
   "source": [
    "There are enough instances of both cases"
   ],
   "metadata": {
    "collapsed": false,
    "pycharm": {
     "name": "#%% md\n"
    }
   }
  },
  {
   "cell_type": "markdown",
   "source": [
    "Let's check how many Categorical/Numerical features do we have"
   ],
   "metadata": {
    "collapsed": false,
    "pycharm": {
     "name": "#%% md\n"
    }
   }
  },
  {
   "cell_type": "code",
   "source": [
    "NumericalData = len(df_train.select_dtypes('number').columns)\n",
    "CategoricalData = len(df_train.select_dtypes(exclude='number').columns)\n",
    "\n",
    "print(f\"Numerical Features - {NumericalData}, Categorical Features - {CategoricalData}\")"
   ],
   "metadata": {
    "collapsed": false,
    "pycharm": {
     "name": "#%%\n"
    }
   },
   "execution_count": 435,
   "outputs": [
    {
     "name": "stdout",
     "output_type": "stream",
     "text": [
      "Numerical Features - 7, Categorical Features - 5\n"
     ]
    }
   ]
  },
  {
   "cell_type": "markdown",
   "source": [
    "#### 2.1 Missing Values Handling"
   ],
   "metadata": {
    "collapsed": false,
    "pycharm": {
     "name": "#%% md\n"
    }
   }
  },
  {
   "cell_type": "code",
   "source": [
    "train_null = df_train.isna().sum()\n",
    "test_null = df_test.isna().sum()\n",
    "missing = pd.DataFrame(\n",
    "              data=[train_null, train_null/df_train.shape[0]*100,\n",
    "                    test_null, test_null/df_test.shape[0]*100],\n",
    "              columns=df_train.columns,\n",
    "              index=[\"Train Null\", \"Train Null (%)\", \"Test Null\", \"Test Null (%)\"]\n",
    "          ).T.sort_values([\"Train Null\", \"Test Null\"], ascending=False)"
   ],
   "metadata": {
    "collapsed": false,
    "pycharm": {
     "name": "#%%\n"
    }
   },
   "execution_count": 436,
   "outputs": []
  },
  {
   "cell_type": "code",
   "execution_count": 437,
   "outputs": [
    {
     "data": {
      "text/plain": "          Train Null  Train Null (%)  Test Null  Test Null (%)\nCabin          687.0       77.104377      327.0      78.229665\nAge            177.0       19.865320       86.0      20.574163\nEmbarked         2.0        0.224467        0.0       0.000000\nFare             0.0        0.000000        1.0       0.239234",
      "text/html": "<div>\n<style scoped>\n    .dataframe tbody tr th:only-of-type {\n        vertical-align: middle;\n    }\n\n    .dataframe tbody tr th {\n        vertical-align: top;\n    }\n\n    .dataframe thead th {\n        text-align: right;\n    }\n</style>\n<table border=\"1\" class=\"dataframe\">\n  <thead>\n    <tr style=\"text-align: right;\">\n      <th></th>\n      <th>Train Null</th>\n      <th>Train Null (%)</th>\n      <th>Test Null</th>\n      <th>Test Null (%)</th>\n    </tr>\n  </thead>\n  <tbody>\n    <tr>\n      <th>Cabin</th>\n      <td>687.0</td>\n      <td>77.104377</td>\n      <td>327.0</td>\n      <td>78.229665</td>\n    </tr>\n    <tr>\n      <th>Age</th>\n      <td>177.0</td>\n      <td>19.865320</td>\n      <td>86.0</td>\n      <td>20.574163</td>\n    </tr>\n    <tr>\n      <th>Embarked</th>\n      <td>2.0</td>\n      <td>0.224467</td>\n      <td>0.0</td>\n      <td>0.000000</td>\n    </tr>\n    <tr>\n      <th>Fare</th>\n      <td>0.0</td>\n      <td>0.000000</td>\n      <td>1.0</td>\n      <td>0.239234</td>\n    </tr>\n  </tbody>\n</table>\n</div>"
     },
     "execution_count": 437,
     "metadata": {},
     "output_type": "execute_result"
    }
   ],
   "source": [
    "# Filter only columns with missing values\n",
    "missing = missing.loc[(missing[\"Train Null\"] > 0) | (missing[\"Test Null\"] > 0)]\n",
    "missing"
   ],
   "metadata": {
    "collapsed": false,
    "pycharm": {
     "name": "#%%\n"
    }
   }
  },
  {
   "cell_type": "markdown",
   "source": [
    "There are a lot of missing values in Cabin and Age, let's handle it"
   ],
   "metadata": {
    "collapsed": false,
    "pycharm": {
     "name": "#%% md\n"
    }
   }
  },
  {
   "cell_type": "markdown",
   "source": [
    "For feature Cabin, 77% of the data is NaN, so I've decided to delete this column"
   ],
   "metadata": {
    "collapsed": false,
    "pycharm": {
     "name": "#%% md\n"
    }
   }
  },
  {
   "cell_type": "code",
   "source": [
    "df_train = df_train.drop(columns=[\"Cabin\"])\n",
    "df_test = df_test.drop(columns=[\"Cabin\"])"
   ],
   "metadata": {
    "collapsed": false,
    "pycharm": {
     "name": "#%%\n"
    }
   },
   "execution_count": 438,
   "outputs": []
  },
  {
   "cell_type": "markdown",
   "source": [
    "There is one missing value for feature \"Fare\" in the Test Set. I'm going to replace it by median value"
   ],
   "metadata": {
    "collapsed": false,
    "pycharm": {
     "name": "#%% md\n"
    }
   }
  },
  {
   "cell_type": "code",
   "source": [
    "df_test.Fare.fillna(df_test.Fare.median(), inplace=True)"
   ],
   "metadata": {
    "collapsed": false,
    "pycharm": {
     "name": "#%%\n"
    }
   },
   "execution_count": 439,
   "outputs": []
  },
  {
   "cell_type": "markdown",
   "source": [],
   "metadata": {
    "collapsed": false,
    "pycharm": {
     "name": "#%% md\n"
    }
   }
  },
  {
   "cell_type": "markdown",
   "source": [
    "There are 2 missing values in the training DataSet, so I just simply delete these two records"
   ],
   "metadata": {
    "collapsed": false
   }
  },
  {
   "cell_type": "code",
   "source": [
    "df_train = df_train.dropna(subset=[\"Embarked\"])"
   ],
   "metadata": {
    "collapsed": false,
    "pycharm": {
     "name": "#%%\n"
    }
   },
   "execution_count": 440,
   "outputs": []
  },
  {
   "cell_type": "markdown",
   "source": [
    "Now let's deal with the feature \"Age\". It would be reasonable to look at Age distribution depending on their ticket class."
   ],
   "metadata": {
    "collapsed": false,
    "pycharm": {
     "name": "#%% md\n"
    }
   }
  },
  {
   "cell_type": "code",
   "source": [
    "fig, ax = plt.subplots(3, 1, figsize=(15, 15))\n",
    "ax = ax.flatten()\n",
    "\n",
    "for i in range(3):\n",
    "\n",
    "    sns.histplot(data=df_train.Age.loc[(df_train.Age.isna()==False) & (df_train.Pclass==i+1)], kde=True, ax=ax[i])\n",
    "    ax[i].set_title(f\"Age distribution for {i+1} class\")\n",
    "\n",
    "plt.subplots_adjust(hspace=0.5)\n",
    "plt.show()"
   ],
   "metadata": {
    "collapsed": false,
    "pycharm": {
     "name": "#%%\n"
    }
   },
   "execution_count": 441,
   "outputs": [
    {
     "data": {
      "text/plain": "<Figure size 1080x1080 with 3 Axes>",
      "image/png": "[encoded data removed]"
     },
     "metadata": {},
     "output_type": "display_data"
    }
   ]
  },
  {
   "cell_type": "markdown",
   "source": [
    "As we can see, the data is skewed to right, so I'll replace missing values in Age by the median depending on ticket class of a passenger."
   ],
   "metadata": {
    "collapsed": false,
    "pycharm": {
     "name": "#%% md\n"
    }
   }
  },
  {
   "cell_type": "markdown",
   "source": [
    "Replacing missing values for training DataSet"
   ],
   "metadata": {
    "collapsed": false,
    "pycharm": {
     "name": "#%% md\n"
    }
   }
  },
  {
   "cell_type": "code",
   "source": [
    "first_class_mean = df_train.loc[df_train.Pclass == 1].Age.median()\n",
    "second_class_mean = df_train.loc[df_train.Pclass == 2].Age.median()\n",
    "third_class_mean = df_train.loc[df_train.Pclass == 3].Age.median()"
   ],
   "metadata": {
    "collapsed": false,
    "pycharm": {
     "name": "#%%\n"
    }
   },
   "execution_count": 442,
   "outputs": []
  },
  {
   "cell_type": "code",
   "execution_count": 443,
   "outputs": [
    {
     "name": "stderr",
     "output_type": "stream",
     "text": [
      "/var/folders/19/6fxk39qn5xq4llhgjf6z4tl00000gn/T/ipykernel_48047/1743752295.py:2: SettingWithCopyWarning: \n",
      "A value is trying to be set on a copy of a slice from a DataFrame\n",
      "\n",
      "See the caveats in the documentation: https://pandas.pydata.org/pandas-docs/stable/user_guide/indexing.html#returning-a-view-versus-a-copy\n",
      "  df_train.Age.loc[df_train.Pclass == 2] = df_train.Age.loc[df_train.Pclass == 2].fillna(second_class_mean)\n",
      "/var/folders/19/6fxk39qn5xq4llhgjf6z4tl00000gn/T/ipykernel_48047/1743752295.py:3: SettingWithCopyWarning: \n",
      "A value is trying to be set on a copy of a slice from a DataFrame\n",
      "\n",
      "See the caveats in the documentation: https://pandas.pydata.org/pandas-docs/stable/user_guide/indexing.html#returning-a-view-versus-a-copy\n",
      "  df_train.Age.loc[df_train.Pclass == 3] = df_train.Age.loc[df_train.Pclass == 3].fillna(third_class_mean)\n"
     ]
    }
   ],
   "source": [
    "df_train.Age.loc[df_train.Pclass == 1] = df_train.Age.loc[df_train.Pclass == 1].fillna(first_class_mean)\n",
    "df_train.Age.loc[df_train.Pclass == 2] = df_train.Age.loc[df_train.Pclass == 2].fillna(second_class_mean)\n",
    "df_train.Age.loc[df_train.Pclass == 3] = df_train.Age.loc[df_train.Pclass == 3].fillna(third_class_mean)"
   ],
   "metadata": {
    "collapsed": false,
    "pycharm": {
     "name": "#%%\n"
    }
   }
  },
  {
   "cell_type": "markdown",
   "source": [
    "Replacing missing values for testing DataSet"
   ],
   "metadata": {
    "collapsed": false,
    "pycharm": {
     "name": "#%% md\n"
    }
   }
  },
  {
   "cell_type": "code",
   "source": [
    "first_class_mean = df_test.loc[df_test.Pclass == 1].Age.median()\n",
    "second_class_mean = df_test.loc[df_test.Pclass == 2].Age.median()\n",
    "third_class_mean = df_test.loc[df_test.Pclass == 3].Age.median()"
   ],
   "metadata": {
    "collapsed": false,
    "pycharm": {
     "name": "#%%\n"
    }
   },
   "execution_count": 444,
   "outputs": []
  },
  {
   "cell_type": "code",
   "execution_count": 445,
   "outputs": [
    {
     "name": "stderr",
     "output_type": "stream",
     "text": [
      "/var/folders/19/6fxk39qn5xq4llhgjf6z4tl00000gn/T/ipykernel_48047/1964673118.py:1: SettingWithCopyWarning: \n",
      "A value is trying to be set on a copy of a slice from a DataFrame\n",
      "\n",
      "See the caveats in the documentation: https://pandas.pydata.org/pandas-docs/stable/user_guide/indexing.html#returning-a-view-versus-a-copy\n",
      "  df_test.Age.loc[df_test.Pclass == 1] = df_test.Age.loc[df_test.Pclass == 1].fillna(first_class_mean)\n",
      "/var/folders/19/6fxk39qn5xq4llhgjf6z4tl00000gn/T/ipykernel_48047/1964673118.py:2: SettingWithCopyWarning: \n",
      "A value is trying to be set on a copy of a slice from a DataFrame\n",
      "\n",
      "See the caveats in the documentation: https://pandas.pydata.org/pandas-docs/stable/user_guide/indexing.html#returning-a-view-versus-a-copy\n",
      "  df_test.Age.loc[df_test.Pclass == 2] = df_test.Age.loc[df_test.Pclass == 2].fillna(second_class_mean)\n",
      "/var/folders/19/6fxk39qn5xq4llhgjf6z4tl00000gn/T/ipykernel_48047/1964673118.py:3: SettingWithCopyWarning: \n",
      "A value is trying to be set on a copy of a slice from a DataFrame\n",
      "\n",
      "See the caveats in the documentation: https://pandas.pydata.org/pandas-docs/stable/user_guide/indexing.html#returning-a-view-versus-a-copy\n",
      "  df_test.Age.loc[df_test.Pclass == 3] = df_test.Age.loc[df_test.Pclass == 3].fillna(third_class_mean)\n"
     ]
    }
   ],
   "source": [
    "df_test.Age.loc[df_test.Pclass == 1] = df_test.Age.loc[df_test.Pclass == 1].fillna(first_class_mean)\n",
    "df_test.Age.loc[df_test.Pclass == 2] = df_test.Age.loc[df_test.Pclass == 2].fillna(second_class_mean)\n",
    "df_test.Age.loc[df_test.Pclass == 3] = df_test.Age.loc[df_test.Pclass == 3].fillna(third_class_mean)"
   ],
   "metadata": {
    "collapsed": false,
    "pycharm": {
     "name": "#%%\n"
    }
   }
  },
  {
   "cell_type": "markdown",
   "source": [
    "#### 2.2 Categorical Variable Encoding"
   ],
   "metadata": {
    "collapsed": false,
    "pycharm": {
     "name": "#%% md\n"
    }
   }
  },
  {
   "cell_type": "markdown",
   "source": [
    "Categorical variables need to be converted into numerical format so that the data with converted categorical values can be provided to the predictive models. There are two types of categorical variable, which is nominal and ordinal. Nominal variable has no intrinsic ordering to its categories, while ordinal variable has a clear ordering. There are different ways to encode these variables depending on their data type. Let's check our categorical variable values first."
   ],
   "metadata": {
    "collapsed": false,
    "pycharm": {
     "name": "#%% md\n"
    }
   }
  },
  {
   "cell_type": "code",
   "execution_count": 446,
   "outputs": [],
   "source": [
    "# Get variable names and number of unique values\n",
    "cat_var = df_train.loc[:, df_train.dtypes == \"object\"].nunique()\n",
    "# Get variable names\n",
    "num_var = df_train.loc[:, df_train.dtypes != \"object\"].columns"
   ],
   "metadata": {
    "collapsed": false,
    "pycharm": {
     "name": "#%%\n"
    }
   }
  },
  {
   "cell_type": "code",
   "execution_count": 447,
   "outputs": [
    {
     "data": {
      "text/plain": "                          0                            1    \\\nTicket                 110152                       110413   \nName      Abbing, Mr. Anthony  Abbott, Mr. Rossmore Edward   \nEmbarked                    C                            Q   \nSex                    female                         male   \n\n                                       2                    3    \\\nTicket                              110465               110564   \nName      Abbott, Mrs. Stanton (Rosa Hunt)  Abelson, Mr. Samuel   \nEmbarked                                 S                    -   \nSex                                      -                    -   \n\n                                            4    \\\nTicket                                   110813   \nName      Abelson, Mrs. Samuel (Hannah Wizosky)   \nEmbarked                                      -   \nSex                                           -   \n\n                                     5                6    \\\nTicket                            111240           111320   \nName      Adahl, Mr. Mauritz Nils Martin  Adams, Mr. John   \nEmbarked                               -                -   \nSex                                    -                -   \n\n                                                     7    \\\nTicket                                            111361   \nName      Ahlin, Mrs. Johan (Johanna Persdotter Larsson)   \nEmbarked                                               -   \nSex                                                    -   \n\n                                 8                            9    ...  \\\nTicket                        111369                       111426  ...   \nName      Aks, Mrs. Sam (Leah Rosen)  Albimona, Mr. Nassef Cassem  ...   \nEmbarked                           -                            -  ...   \nSex                                -                            -  ...   \n\n                                             879                   880  \\\nTicket                                         -                     -   \nName      Yrois, Miss. Henriette (\"Mrs Harbeck\")  Zabour, Miss. Hileni   \nEmbarked                                       -                     -   \nSex                                            -                     -   \n\n                            881                 882  \\\nTicket                        -                   -   \nName      Zabour, Miss. Thamine  Zimmerman, Mr. Leo   \nEmbarked                      -                   -   \nSex                           -                   -   \n\n                                                   883  \\\nTicket                                               -   \nName      de Messemaeker, Mrs. Guillaume Joseph (Emma)   \nEmbarked                                             -   \nSex                                                  -   \n\n                              884                        885  \\\nTicket                          -                          -   \nName      de Mulder, Mr. Theodore  de Pelsmaeker, Mr. Alfons   \nEmbarked                        -                          -   \nSex                             -                          -   \n\n                                886                              887  \\\nTicket                            -                                -   \nName      del Carlo, Mr. Sebastiano  van Billiard, Mr. Austin Blyler   \nEmbarked                          -                                -   \nSex                               -                                -   \n\n                                  888  \nTicket                              -  \nName      van Melkebeke, Mr. Philemon  \nEmbarked                            -  \nSex                                 -  \n\n[4 rows x 889 columns]",
      "text/html": "<div>\n<style scoped>\n    .dataframe tbody tr th:only-of-type {\n        vertical-align: middle;\n    }\n\n    .dataframe tbody tr th {\n        vertical-align: top;\n    }\n\n    .dataframe thead th {\n        text-align: right;\n    }\n</style>\n<table border=\"1\" class=\"dataframe\">\n  <thead>\n    <tr style=\"text-align: right;\">\n      <th></th>\n      <th>0</th>\n      <th>1</th>\n      <th>2</th>\n      <th>3</th>\n      <th>4</th>\n      <th>5</th>\n      <th>6</th>\n      <th>7</th>\n      <th>8</th>\n      <th>9</th>\n      <th>...</th>\n      <th>879</th>\n      <th>880</th>\n      <th>881</th>\n      <th>882</th>\n      <th>883</th>\n      <th>884</th>\n      <th>885</th>\n      <th>886</th>\n      <th>887</th>\n      <th>888</th>\n    </tr>\n  </thead>\n  <tbody>\n    <tr>\n      <th>Ticket</th>\n      <td>110152</td>\n      <td>110413</td>\n      <td>110465</td>\n      <td>110564</td>\n      <td>110813</td>\n      <td>111240</td>\n      <td>111320</td>\n      <td>111361</td>\n      <td>111369</td>\n      <td>111426</td>\n      <td>...</td>\n      <td>-</td>\n      <td>-</td>\n      <td>-</td>\n      <td>-</td>\n      <td>-</td>\n      <td>-</td>\n      <td>-</td>\n      <td>-</td>\n      <td>-</td>\n      <td>-</td>\n    </tr>\n    <tr>\n      <th>Name</th>\n      <td>Abbing, Mr. Anthony</td>\n      <td>Abbott, Mr. Rossmore Edward</td>\n      <td>Abbott, Mrs. Stanton (Rosa Hunt)</td>\n      <td>Abelson, Mr. Samuel</td>\n      <td>Abelson, Mrs. Samuel (Hannah Wizosky)</td>\n      <td>Adahl, Mr. Mauritz Nils Martin</td>\n      <td>Adams, Mr. John</td>\n      <td>Ahlin, Mrs. Johan (Johanna Persdotter Larsson)</td>\n      <td>Aks, Mrs. Sam (Leah Rosen)</td>\n      <td>Albimona, Mr. Nassef Cassem</td>\n      <td>...</td>\n      <td>Yrois, Miss. Henriette (\"Mrs Harbeck\")</td>\n      <td>Zabour, Miss. Hileni</td>\n      <td>Zabour, Miss. Thamine</td>\n      <td>Zimmerman, Mr. Leo</td>\n      <td>de Messemaeker, Mrs. Guillaume Joseph (Emma)</td>\n      <td>de Mulder, Mr. Theodore</td>\n      <td>de Pelsmaeker, Mr. Alfons</td>\n      <td>del Carlo, Mr. Sebastiano</td>\n      <td>van Billiard, Mr. Austin Blyler</td>\n      <td>van Melkebeke, Mr. Philemon</td>\n    </tr>\n    <tr>\n      <th>Embarked</th>\n      <td>C</td>\n      <td>Q</td>\n      <td>S</td>\n      <td>-</td>\n      <td>-</td>\n      <td>-</td>\n      <td>-</td>\n      <td>-</td>\n      <td>-</td>\n      <td>-</td>\n      <td>...</td>\n      <td>-</td>\n      <td>-</td>\n      <td>-</td>\n      <td>-</td>\n      <td>-</td>\n      <td>-</td>\n      <td>-</td>\n      <td>-</td>\n      <td>-</td>\n      <td>-</td>\n    </tr>\n    <tr>\n      <th>Sex</th>\n      <td>female</td>\n      <td>male</td>\n      <td>-</td>\n      <td>-</td>\n      <td>-</td>\n      <td>-</td>\n      <td>-</td>\n      <td>-</td>\n      <td>-</td>\n      <td>-</td>\n      <td>...</td>\n      <td>-</td>\n      <td>-</td>\n      <td>-</td>\n      <td>-</td>\n      <td>-</td>\n      <td>-</td>\n      <td>-</td>\n      <td>-</td>\n      <td>-</td>\n      <td>-</td>\n    </tr>\n  </tbody>\n</table>\n<p>4 rows × 889 columns</p>\n</div>"
     },
     "execution_count": 447,
     "metadata": {},
     "output_type": "execute_result"
    }
   ],
   "source": [
    "# Count sorted unique values (alphabetically) for each categorical variable\n",
    "cat_var_unique = {var: sorted(df_train[var].unique()) for var in cat_var.index}\n",
    "\n",
    "# Add \"-\" for each values to replace none in the DataFrame (889 is highest len of unique values)\n",
    "for key, val in cat_var_unique.items():\n",
    "    cat_var_unique[key] += [\"-\" for x in range(889-len(val))]\n",
    "\n",
    "pd.DataFrame.from_dict(cat_var_unique, orient=\"index\").sort_values([x for x in range(889)])"
   ],
   "metadata": {
    "collapsed": false,
    "pycharm": {
     "name": "#%%\n"
    }
   }
  },
  {
   "cell_type": "markdown",
   "source": [
    "As we can see, Ticket and Name features have too many unique values, which in general doesn't give as any useful information (because Ticket and Name - is just another way of identifying person, which doesn't include any useful information for prediction). Then, in my opinion, it would be reasonable to drop these features and encode only Embarked and Sex"
   ],
   "metadata": {
    "collapsed": false,
    "pycharm": {
     "name": "#%% md\n"
    }
   }
  },
  {
   "cell_type": "code",
   "execution_count": 448,
   "outputs": [],
   "source": [
    "df_train.drop(columns=[\"Ticket\", \"Name\"], inplace=True)\n",
    "df_test.drop(columns=[\"Ticket\", \"Name\"], inplace=True)"
   ],
   "metadata": {
    "collapsed": false,
    "pycharm": {
     "name": "#%%\n"
    }
   }
  },
  {
   "cell_type": "markdown",
   "source": [
    "\"Embarked\" and \"Sex\" features are nominal, so it'd be logical to encode them by using One-Hot Encoding"
   ],
   "metadata": {
    "collapsed": false,
    "pycharm": {
     "name": "#%% md\n"
    }
   }
  },
  {
   "cell_type": "code",
   "source": [
    "onehot_var = cat_var[cat_var <= 3].index\n",
    "\n",
    "df_train = pd.get_dummies(df_train, prefix=onehot_var, columns=onehot_var)\n",
    "df_test = pd.get_dummies(df_test, prefix=onehot_var, columns=onehot_var)"
   ],
   "metadata": {
    "collapsed": false,
    "pycharm": {
     "name": "#%%\n"
    }
   },
   "execution_count": 449,
   "outputs": []
  },
  {
   "cell_type": "code",
   "execution_count": 450,
   "outputs": [
    {
     "data": {
      "text/plain": "   PassengerId  Survived  Pclass   Age  SibSp  Parch     Fare  Sex_female  \\\n0            1         0       3  22.0      1      0   7.2500           0   \n1            2         1       1  38.0      1      0  71.2833           1   \n2            3         1       3  26.0      0      0   7.9250           1   \n3            4         1       1  35.0      1      0  53.1000           1   \n4            5         0       3  35.0      0      0   8.0500           0   \n\n   Sex_male  Embarked_C  Embarked_Q  Embarked_S  \n0         1           0           0           1  \n1         0           1           0           0  \n2         0           0           0           1  \n3         0           0           0           1  \n4         1           0           0           1  ",
      "text/html": "<div>\n<style scoped>\n    .dataframe tbody tr th:only-of-type {\n        vertical-align: middle;\n    }\n\n    .dataframe tbody tr th {\n        vertical-align: top;\n    }\n\n    .dataframe thead th {\n        text-align: right;\n    }\n</style>\n<table border=\"1\" class=\"dataframe\">\n  <thead>\n    <tr style=\"text-align: right;\">\n      <th></th>\n      <th>PassengerId</th>\n      <th>Survived</th>\n      <th>Pclass</th>\n      <th>Age</th>\n      <th>SibSp</th>\n      <th>Parch</th>\n      <th>Fare</th>\n      <th>Sex_female</th>\n      <th>Sex_male</th>\n      <th>Embarked_C</th>\n      <th>Embarked_Q</th>\n      <th>Embarked_S</th>\n    </tr>\n  </thead>\n  <tbody>\n    <tr>\n      <th>0</th>\n      <td>1</td>\n      <td>0</td>\n      <td>3</td>\n      <td>22.0</td>\n      <td>1</td>\n      <td>0</td>\n      <td>7.2500</td>\n      <td>0</td>\n      <td>1</td>\n      <td>0</td>\n      <td>0</td>\n      <td>1</td>\n    </tr>\n    <tr>\n      <th>1</th>\n      <td>2</td>\n      <td>1</td>\n      <td>1</td>\n      <td>38.0</td>\n      <td>1</td>\n      <td>0</td>\n      <td>71.2833</td>\n      <td>1</td>\n      <td>0</td>\n      <td>1</td>\n      <td>0</td>\n      <td>0</td>\n    </tr>\n    <tr>\n      <th>2</th>\n      <td>3</td>\n      <td>1</td>\n      <td>3</td>\n      <td>26.0</td>\n      <td>0</td>\n      <td>0</td>\n      <td>7.9250</td>\n      <td>1</td>\n      <td>0</td>\n      <td>0</td>\n      <td>0</td>\n      <td>1</td>\n    </tr>\n    <tr>\n      <th>3</th>\n      <td>4</td>\n      <td>1</td>\n      <td>1</td>\n      <td>35.0</td>\n      <td>1</td>\n      <td>0</td>\n      <td>53.1000</td>\n      <td>1</td>\n      <td>0</td>\n      <td>0</td>\n      <td>0</td>\n      <td>1</td>\n    </tr>\n    <tr>\n      <th>4</th>\n      <td>5</td>\n      <td>0</td>\n      <td>3</td>\n      <td>35.0</td>\n      <td>0</td>\n      <td>0</td>\n      <td>8.0500</td>\n      <td>0</td>\n      <td>1</td>\n      <td>0</td>\n      <td>0</td>\n      <td>1</td>\n    </tr>\n  </tbody>\n</table>\n</div>"
     },
     "execution_count": 450,
     "metadata": {},
     "output_type": "execute_result"
    }
   ],
   "source": [
    "df_train.head()"
   ],
   "metadata": {
    "collapsed": false,
    "pycharm": {
     "name": "#%%\n"
    }
   }
  },
  {
   "cell_type": "markdown",
   "source": [
    "#### 2.3 Creating and Deleting Variables"
   ],
   "metadata": {
    "collapsed": false,
    "pycharm": {
     "name": "#%% md\n"
    }
   }
  },
  {
   "cell_type": "markdown",
   "source": [
    "In this process, we will create some new variables from existing data. We need to do this mainly because we don't want any multicollinearity in our data. Multicollinearity happens when independent variables in the regression model are highly correlated to each other. It makes it hard to interpret of model and also creates an overfitting problem. Another reason we want to do this is because we can create new features that might be useful for predicting targets."
   ],
   "metadata": {
    "collapsed": false,
    "pycharm": {
     "name": "#%% md\n"
    }
   }
  },
  {
   "cell_type": "markdown",
   "source": [
    "Let's check the correlation between variables in our data first."
   ],
   "metadata": {
    "collapsed": false,
    "pycharm": {
     "name": "#%% md\n"
    }
   }
  },
  {
   "cell_type": "code",
   "execution_count": 451,
   "outputs": [
    {
     "data": {
      "text/plain": "<Figure size 720x720 with 2 Axes>",
      "image/png": "[encoded data removed]"
     },
     "metadata": {},
     "output_type": "display_data"
    }
   ],
   "source": [
    "plt.figure(figsize=(10,10))\n",
    "sns.heatmap(df_train.drop(\"PassengerId\", axis=1).corr())\n",
    "plt.show()"
   ],
   "metadata": {
    "collapsed": false,
    "pycharm": {
     "name": "#%%\n"
    }
   }
  },
  {
   "cell_type": "code",
   "execution_count": 452,
   "outputs": [
    {
     "data": {
      "text/plain": "            Survived    Pclass       Age     SibSp     Parch      Fare  \\\nSurvived    1.000000 -0.335549 -0.052051 -0.034040  0.083151  0.255290   \nPclass     -0.335549  1.000000 -0.405549  0.081656  0.016824 -0.548193   \nAge        -0.052051 -0.405549  1.000000 -0.242807 -0.170089  0.120938   \nSibSp      -0.034040  0.081656 -0.242807  1.000000  0.414542  0.160887   \nParch       0.083151  0.016824 -0.170089  0.414542  1.000000  0.217532   \nFare        0.255290 -0.548193  0.120938  0.160887  0.217532  1.000000   \nSex_female  0.541585 -0.127741 -0.083730  0.116348  0.247508  0.179958   \nSex_male   -0.541585  0.127741  0.083730 -0.116348 -0.247508 -0.179958   \nEmbarked_C  0.169966 -0.245733  0.042585 -0.060074 -0.011588  0.270731   \nEmbarked_Q  0.004536  0.220558 -0.080875 -0.026692 -0.081585 -0.116684   \nEmbarked_S -0.151777  0.076466  0.013598  0.069438  0.061512 -0.163758   \n\n            Sex_female  Sex_male  Embarked_C  Embarked_Q  Embarked_S  \nSurvived      0.541585 -0.541585    0.169966    0.004536   -0.151777  \nPclass       -0.127741  0.127741   -0.245733    0.220558    0.076466  \nAge          -0.083730  0.083730    0.042585   -0.080875    0.013598  \nSibSp         0.116348 -0.116348   -0.060074   -0.026692    0.069438  \nParch         0.247508 -0.247508   -0.011588   -0.081585    0.061512  \nFare          0.179958 -0.179958    0.270731   -0.116684   -0.163758  \nSex_female    1.000000 -1.000000    0.084520    0.075217   -0.121405  \nSex_male     -1.000000  1.000000   -0.084520   -0.075217    0.121405  \nEmbarked_C    0.084520 -0.084520    1.000000   -0.148646   -0.782613  \nEmbarked_Q    0.075217 -0.075217   -0.148646    1.000000   -0.499261  \nEmbarked_S   -0.121405  0.121405   -0.782613   -0.499261    1.000000  ",
      "text/html": "<div>\n<style scoped>\n    .dataframe tbody tr th:only-of-type {\n        vertical-align: middle;\n    }\n\n    .dataframe tbody tr th {\n        vertical-align: top;\n    }\n\n    .dataframe thead th {\n        text-align: right;\n    }\n</style>\n<table border=\"1\" class=\"dataframe\">\n  <thead>\n    <tr style=\"text-align: right;\">\n      <th></th>\n      <th>Survived</th>\n      <th>Pclass</th>\n      <th>Age</th>\n      <th>SibSp</th>\n      <th>Parch</th>\n      <th>Fare</th>\n      <th>Sex_female</th>\n      <th>Sex_male</th>\n      <th>Embarked_C</th>\n      <th>Embarked_Q</th>\n      <th>Embarked_S</th>\n    </tr>\n  </thead>\n  <tbody>\n    <tr>\n      <th>Survived</th>\n      <td>1.000000</td>\n      <td>-0.335549</td>\n      <td>-0.052051</td>\n      <td>-0.034040</td>\n      <td>0.083151</td>\n      <td>0.255290</td>\n      <td>0.541585</td>\n      <td>-0.541585</td>\n      <td>0.169966</td>\n      <td>0.004536</td>\n      <td>-0.151777</td>\n    </tr>\n    <tr>\n      <th>Pclass</th>\n      <td>-0.335549</td>\n      <td>1.000000</td>\n      <td>-0.405549</td>\n      <td>0.081656</td>\n      <td>0.016824</td>\n      <td>-0.548193</td>\n      <td>-0.127741</td>\n      <td>0.127741</td>\n      <td>-0.245733</td>\n      <td>0.220558</td>\n      <td>0.076466</td>\n    </tr>\n    <tr>\n      <th>Age</th>\n      <td>-0.052051</td>\n      <td>-0.405549</td>\n      <td>1.000000</td>\n      <td>-0.242807</td>\n      <td>-0.170089</td>\n      <td>0.120938</td>\n      <td>-0.083730</td>\n      <td>0.083730</td>\n      <td>0.042585</td>\n      <td>-0.080875</td>\n      <td>0.013598</td>\n    </tr>\n    <tr>\n      <th>SibSp</th>\n      <td>-0.034040</td>\n      <td>0.081656</td>\n      <td>-0.242807</td>\n      <td>1.000000</td>\n      <td>0.414542</td>\n      <td>0.160887</td>\n      <td>0.116348</td>\n      <td>-0.116348</td>\n      <td>-0.060074</td>\n      <td>-0.026692</td>\n      <td>0.069438</td>\n    </tr>\n    <tr>\n      <th>Parch</th>\n      <td>0.083151</td>\n      <td>0.016824</td>\n      <td>-0.170089</td>\n      <td>0.414542</td>\n      <td>1.000000</td>\n      <td>0.217532</td>\n      <td>0.247508</td>\n      <td>-0.247508</td>\n      <td>-0.011588</td>\n      <td>-0.081585</td>\n      <td>0.061512</td>\n    </tr>\n    <tr>\n      <th>Fare</th>\n      <td>0.255290</td>\n      <td>-0.548193</td>\n      <td>0.120938</td>\n      <td>0.160887</td>\n      <td>0.217532</td>\n      <td>1.000000</td>\n      <td>0.179958</td>\n      <td>-0.179958</td>\n      <td>0.270731</td>\n      <td>-0.116684</td>\n      <td>-0.163758</td>\n    </tr>\n    <tr>\n      <th>Sex_female</th>\n      <td>0.541585</td>\n      <td>-0.127741</td>\n      <td>-0.083730</td>\n      <td>0.116348</td>\n      <td>0.247508</td>\n      <td>0.179958</td>\n      <td>1.000000</td>\n      <td>-1.000000</td>\n      <td>0.084520</td>\n      <td>0.075217</td>\n      <td>-0.121405</td>\n    </tr>\n    <tr>\n      <th>Sex_male</th>\n      <td>-0.541585</td>\n      <td>0.127741</td>\n      <td>0.083730</td>\n      <td>-0.116348</td>\n      <td>-0.247508</td>\n      <td>-0.179958</td>\n      <td>-1.000000</td>\n      <td>1.000000</td>\n      <td>-0.084520</td>\n      <td>-0.075217</td>\n      <td>0.121405</td>\n    </tr>\n    <tr>\n      <th>Embarked_C</th>\n      <td>0.169966</td>\n      <td>-0.245733</td>\n      <td>0.042585</td>\n      <td>-0.060074</td>\n      <td>-0.011588</td>\n      <td>0.270731</td>\n      <td>0.084520</td>\n      <td>-0.084520</td>\n      <td>1.000000</td>\n      <td>-0.148646</td>\n      <td>-0.782613</td>\n    </tr>\n    <tr>\n      <th>Embarked_Q</th>\n      <td>0.004536</td>\n      <td>0.220558</td>\n      <td>-0.080875</td>\n      <td>-0.026692</td>\n      <td>-0.081585</td>\n      <td>-0.116684</td>\n      <td>0.075217</td>\n      <td>-0.075217</td>\n      <td>-0.148646</td>\n      <td>1.000000</td>\n      <td>-0.499261</td>\n    </tr>\n    <tr>\n      <th>Embarked_S</th>\n      <td>-0.151777</td>\n      <td>0.076466</td>\n      <td>0.013598</td>\n      <td>0.069438</td>\n      <td>0.061512</td>\n      <td>-0.163758</td>\n      <td>-0.121405</td>\n      <td>0.121405</td>\n      <td>-0.782613</td>\n      <td>-0.499261</td>\n      <td>1.000000</td>\n    </tr>\n  </tbody>\n</table>\n</div>"
     },
     "execution_count": 452,
     "metadata": {},
     "output_type": "execute_result"
    }
   ],
   "source": [
    "df_train.drop(\"PassengerId\", axis=1).corr()"
   ],
   "metadata": {
    "collapsed": false,
    "pycharm": {
     "name": "#%%\n"
    }
   }
  },
  {
   "cell_type": "markdown",
   "source": [],
   "metadata": {
    "collapsed": false
   }
  },
  {
   "cell_type": "markdown",
   "source": [
    "Now i delete unnecessary features, create new feature and normalize \"Fare\""
   ],
   "metadata": {
    "collapsed": false,
    "pycharm": {
     "name": "#%% md\n"
    }
   }
  },
  {
   "cell_type": "code",
   "execution_count": 453,
   "outputs": [
    {
     "data": {
      "text/plain": "   PassengerId  Survived  Pclass      Fare  Sex_female  Embarked_C  \\\n0            1         0       3  0.004112           0           0   \n1            2         1       1  0.040427           1           1   \n2            3         1       3  0.004495           1           0   \n3            4         1       1  0.030115           1           0   \n4            5         0       3  0.004565           0           0   \n\n   Embarked_Q  Embarked_S  Relatives  \n0           0           1          1  \n1           0           0          1  \n2           0           1          0  \n3           0           1          1  \n4           0           1          0  ",
      "text/html": "<div>\n<style scoped>\n    .dataframe tbody tr th:only-of-type {\n        vertical-align: middle;\n    }\n\n    .dataframe tbody tr th {\n        vertical-align: top;\n    }\n\n    .dataframe thead th {\n        text-align: right;\n    }\n</style>\n<table border=\"1\" class=\"dataframe\">\n  <thead>\n    <tr style=\"text-align: right;\">\n      <th></th>\n      <th>PassengerId</th>\n      <th>Survived</th>\n      <th>Pclass</th>\n      <th>Fare</th>\n      <th>Sex_female</th>\n      <th>Embarked_C</th>\n      <th>Embarked_Q</th>\n      <th>Embarked_S</th>\n      <th>Relatives</th>\n    </tr>\n  </thead>\n  <tbody>\n    <tr>\n      <th>0</th>\n      <td>1</td>\n      <td>0</td>\n      <td>3</td>\n      <td>0.004112</td>\n      <td>0</td>\n      <td>0</td>\n      <td>0</td>\n      <td>1</td>\n      <td>1</td>\n    </tr>\n    <tr>\n      <th>1</th>\n      <td>2</td>\n      <td>1</td>\n      <td>1</td>\n      <td>0.040427</td>\n      <td>1</td>\n      <td>1</td>\n      <td>0</td>\n      <td>0</td>\n      <td>1</td>\n    </tr>\n    <tr>\n      <th>2</th>\n      <td>3</td>\n      <td>1</td>\n      <td>3</td>\n      <td>0.004495</td>\n      <td>1</td>\n      <td>0</td>\n      <td>0</td>\n      <td>1</td>\n      <td>0</td>\n    </tr>\n    <tr>\n      <th>3</th>\n      <td>4</td>\n      <td>1</td>\n      <td>1</td>\n      <td>0.030115</td>\n      <td>1</td>\n      <td>0</td>\n      <td>0</td>\n      <td>1</td>\n      <td>1</td>\n    </tr>\n    <tr>\n      <th>4</th>\n      <td>5</td>\n      <td>0</td>\n      <td>3</td>\n      <td>0.004565</td>\n      <td>0</td>\n      <td>0</td>\n      <td>0</td>\n      <td>1</td>\n      <td>0</td>\n    </tr>\n  </tbody>\n</table>\n</div>"
     },
     "execution_count": 453,
     "metadata": {},
     "output_type": "execute_result"
    }
   ],
   "source": [
    "for df in [df_train, df_test]:\n",
    "    df[\"Relatives\"] = df[\"Parch\"] + df[\"SibSp\"]\n",
    "    df[\"Fare\"] = preprocessing.normalize([df[\"Fare\"]])[0][:]\n",
    "    df.drop(columns=[\"Age\", \"SibSp\", \"Parch\", \"Sex_male\"], inplace=True)\n",
    "\n",
    "df_train.head()"
   ],
   "metadata": {
    "collapsed": false,
    "pycharm": {
     "name": "#%%\n"
    }
   }
  },
  {
   "cell_type": "markdown",
   "source": [
    "### 3. Model Building"
   ],
   "metadata": {
    "collapsed": false,
    "pycharm": {
     "name": "#%% md\n"
    }
   }
  },
  {
   "cell_type": "markdown",
   "source": [
    "#### 3.1 Splitting Dataset"
   ],
   "metadata": {
    "collapsed": false,
    "pycharm": {
     "name": "#%% md\n"
    }
   }
  },
  {
   "cell_type": "code",
   "execution_count": 454,
   "outputs": [],
   "source": [
    "X_train = df_train.drop([\"Survived\", \"PassengerId\"], axis=1)\n",
    "y_train = df_train.Survived\n",
    "\n",
    "X_test = df_test.drop(\"PassengerId\", axis=1)"
   ],
   "metadata": {
    "collapsed": false,
    "pycharm": {
     "name": "#%%\n"
    }
   }
  },
  {
   "cell_type": "markdown",
   "source": [
    "#### 3.2 Selecting Best Model"
   ],
   "metadata": {
    "collapsed": false,
    "pycharm": {
     "name": "#%% md\n"
    }
   }
  },
  {
   "cell_type": "code",
   "execution_count": 455,
   "outputs": [
    {
     "name": "stderr",
     "output_type": "stream",
     "text": [
      "/var/folders/19/6fxk39qn5xq4llhgjf6z4tl00000gn/T/ipykernel_48047/2583408708.py:19: FutureWarning: The frame.append method is deprecated and will be removed from pandas in a future version. Use pandas.concat instead.\n",
      "  results = results.append({\n",
      "/var/folders/19/6fxk39qn5xq4llhgjf6z4tl00000gn/T/ipykernel_48047/2583408708.py:19: FutureWarning: The frame.append method is deprecated and will be removed from pandas in a future version. Use pandas.concat instead.\n",
      "  results = results.append({\n",
      "/var/folders/19/6fxk39qn5xq4llhgjf6z4tl00000gn/T/ipykernel_48047/2583408708.py:19: FutureWarning: The frame.append method is deprecated and will be removed from pandas in a future version. Use pandas.concat instead.\n",
      "  results = results.append({\n",
      "/var/folders/19/6fxk39qn5xq4llhgjf6z4tl00000gn/T/ipykernel_48047/2583408708.py:19: FutureWarning: The frame.append method is deprecated and will be removed from pandas in a future version. Use pandas.concat instead.\n",
      "  results = results.append({\n",
      "/var/folders/19/6fxk39qn5xq4llhgjf6z4tl00000gn/T/ipykernel_48047/2583408708.py:19: FutureWarning: The frame.append method is deprecated and will be removed from pandas in a future version. Use pandas.concat instead.\n",
      "  results = results.append({\n",
      "/var/folders/19/6fxk39qn5xq4llhgjf6z4tl00000gn/T/ipykernel_48047/2583408708.py:19: FutureWarning: The frame.append method is deprecated and will be removed from pandas in a future version. Use pandas.concat instead.\n",
      "  results = results.append({\n",
      "/var/folders/19/6fxk39qn5xq4llhgjf6z4tl00000gn/T/ipykernel_48047/2583408708.py:19: FutureWarning: The frame.append method is deprecated and will be removed from pandas in a future version. Use pandas.concat instead.\n",
      "  results = results.append({\n"
     ]
    },
    {
     "data": {
      "text/plain": "            Classifier    AVG_F1\n0       XGB Classifier  0.743332\n1        GB Classifier  0.739011\n2        Random Forest  0.727552\n3                  SVM   0.72659\n4                  KNN  0.716498\n5  Logistic Regression  0.713594\n6          Naive Bayes  0.704467",
      "text/html": "<div>\n<style scoped>\n    .dataframe tbody tr th:only-of-type {\n        vertical-align: middle;\n    }\n\n    .dataframe tbody tr th {\n        vertical-align: top;\n    }\n\n    .dataframe thead th {\n        text-align: right;\n    }\n</style>\n<table border=\"1\" class=\"dataframe\">\n  <thead>\n    <tr style=\"text-align: right;\">\n      <th></th>\n      <th>Classifier</th>\n      <th>AVG_F1</th>\n    </tr>\n  </thead>\n  <tbody>\n    <tr>\n      <th>0</th>\n      <td>XGB Classifier</td>\n      <td>0.743332</td>\n    </tr>\n    <tr>\n      <th>1</th>\n      <td>GB Classifier</td>\n      <td>0.739011</td>\n    </tr>\n    <tr>\n      <th>2</th>\n      <td>Random Forest</td>\n      <td>0.727552</td>\n    </tr>\n    <tr>\n      <th>3</th>\n      <td>SVM</td>\n      <td>0.72659</td>\n    </tr>\n    <tr>\n      <th>4</th>\n      <td>KNN</td>\n      <td>0.716498</td>\n    </tr>\n    <tr>\n      <th>5</th>\n      <td>Logistic Regression</td>\n      <td>0.713594</td>\n    </tr>\n    <tr>\n      <th>6</th>\n      <td>Naive Bayes</td>\n      <td>0.704467</td>\n    </tr>\n  </tbody>\n</table>\n</div>"
     },
     "execution_count": 455,
     "metadata": {},
     "output_type": "execute_result"
    }
   ],
   "source": [
    "classifiers = {\n",
    "    \"Logistic Regression\" : LogisticRegression(),\n",
    "    \"Naive Bayes\" : MultinomialNB(),\n",
    "    \"SVM\" : SVM(),\n",
    "    \"KNN\" : KNeighborsClassifier(),\n",
    "    \"Random Forest\" : RandomForestClassifier(),\n",
    "    \"GB Classifier\" : GradientBoostingClassifier(),\n",
    "    \"XGB Classifier\" : XGBClassifier()\n",
    "}\n",
    "\n",
    "results = pd.DataFrame(columns=[\"Classifier\", \"AVG_F1\"])\n",
    "for name, clf in classifiers.items():\n",
    "    model = clf\n",
    "    CV_results = cross_validate(\n",
    "        model, X_train, y_train,\n",
    "        cv=10, scoring=([\"f1\"])\n",
    "    )\n",
    "\n",
    "    results = results.append({\n",
    "        \"Classifier\" : name,\n",
    "        \"AVG_F1\": CV_results['test_f1'].mean()\n",
    "    }, ignore_index=True)\n",
    "\n",
    "results = results.sort_values(\"AVG_F1\", ascending=False)\n",
    "results.reset_index(drop=True)"
   ],
   "metadata": {
    "collapsed": false,
    "pycharm": {
     "name": "#%%\n"
    }
   }
  },
  {
   "cell_type": "code",
   "execution_count": 456,
   "outputs": [
    {
     "data": {
      "text/plain": "<Figure size 720x360 with 1 Axes>",
      "image/png": "[encoded data removed]"
     },
     "metadata": {},
     "output_type": "display_data"
    }
   ],
   "source": [
    "plt.figure(figsize=(10,5))\n",
    "sns.barplot(data=results, x=\"AVG_F1\", y=\"Classifier\")\n",
    "plt.title(\"Average F1 CV Score\")\n",
    "plt.show()"
   ],
   "metadata": {
    "collapsed": false,
    "pycharm": {
     "name": "#%%\n"
    }
   }
  },
  {
   "cell_type": "markdown",
   "source": [
    "As we can see from the cross validation test above, XGB and GB classifiers did the best job. Let's tune their hyperparameters using Grid Search Cross Validation."
   ],
   "metadata": {
    "collapsed": false,
    "pycharm": {
     "name": "#%% md\n"
    }
   }
  },
  {
   "cell_type": "markdown",
   "source": [
    "#### 3.3 Hyperparameter Tuning"
   ],
   "metadata": {
    "collapsed": false,
    "pycharm": {
     "name": "#%% md\n"
    }
   }
  },
  {
   "cell_type": "markdown",
   "source": [
    "##### XGB Classifier"
   ],
   "metadata": {
    "collapsed": false,
    "pycharm": {
     "name": "#%% md\n"
    }
   }
  },
  {
   "cell_type": "code",
   "execution_count": 457,
   "outputs": [
    {
     "name": "stdout",
     "output_type": "stream",
     "text": [
      "Best hyperparameters: {'learning_rate': 0.3, 'max_depth': 6, 'n_estimators': 75}\n"
     ]
    }
   ],
   "source": [
    "XGB = XGBClassifier(random_state = 0)\n",
    "\n",
    "params = {\n",
    "    \"max_depth\" : (3, 6, 9),\n",
    "    \"learning_rate\" : (0.3, 0.1, 0.05),\n",
    "    \"n_estimators\" : (50, 75, 100, 150, 200)\n",
    "\n",
    "}\n",
    "\n",
    "clf1 = GridSearchCV(XGB, params, cv=10)\n",
    "clf1.fit(X_train, y_train)\n",
    "print(\"Best hyperparameters:\", clf1.best_params_)"
   ],
   "metadata": {
    "collapsed": false,
    "pycharm": {
     "name": "#%%\n"
    }
   }
  },
  {
   "cell_type": "code",
   "execution_count": 458,
   "outputs": [
    {
     "name": "stdout",
     "output_type": "stream",
     "text": [
      "Train accuracy for XGB: 0.906636670416198\n"
     ]
    }
   ],
   "source": [
    "y_pred = clf1.predict(X_train)\n",
    "\n",
    "print(f\"Train accuracy for XGB: {accuracy_score(y_train, y_pred)}\")"
   ],
   "metadata": {
    "collapsed": false,
    "pycharm": {
     "name": "#%%\n"
    }
   }
  },
  {
   "cell_type": "markdown",
   "source": [
    "##### GB classifier"
   ],
   "metadata": {
    "collapsed": false,
    "pycharm": {
     "name": "#%% md\n"
    }
   }
  },
  {
   "cell_type": "code",
   "execution_count": 459,
   "outputs": [
    {
     "name": "stdout",
     "output_type": "stream",
     "text": [
      "Best hyperparameters for GB: {'ccp_alpha': 0, 'learning_rate': 0.3, 'max_depth': 3, 'n_estimators': 75}\n"
     ]
    }
   ],
   "source": [
    "GB = GradientBoostingClassifier(random_state = 0)\n",
    "\n",
    "params = {\n",
    "    \"max_depth\" : (3, 6, 9),\n",
    "    \"learning_rate\" : (0.3,  0.1, 0.05),\n",
    "    \"n_estimators\" : (50, 75, 100, 150, 200),\n",
    "    \"ccp_alpha\" : (0, 0.01, 0.1)\n",
    "\n",
    "}\n",
    "\n",
    "clf2 = GridSearchCV(GB, params, cv=10)\n",
    "clf2.fit(X_train, y_train)\n",
    "\n",
    "print(\"Best hyperparameters for GB:\", clf2.best_params_)"
   ],
   "metadata": {
    "collapsed": false,
    "pycharm": {
     "name": "#%%\n"
    }
   }
  },
  {
   "cell_type": "code",
   "execution_count": 460,
   "outputs": [
    {
     "name": "stdout",
     "output_type": "stream",
     "text": [
      "Train accuracy for GB: 0.8987626546681665\n"
     ]
    }
   ],
   "source": [
    "y_pred = clf2.predict(X_train)\n",
    "\n",
    "print(f\"Train accuracy for GB: {accuracy_score(y_train, y_pred)}\")"
   ],
   "metadata": {
    "collapsed": false,
    "pycharm": {
     "name": "#%%\n"
    }
   }
  },
  {
   "cell_type": "markdown",
   "source": [
    "XGB showed a little bit better, so let's choose it as our final model"
   ],
   "metadata": {
    "collapsed": false,
    "pycharm": {
     "name": "#%% md\n"
    }
   }
  },
  {
   "cell_type": "markdown",
   "source": [
    "### Making Submission"
   ],
   "metadata": {
    "collapsed": false,
    "pycharm": {
     "name": "#%% md\n"
    }
   }
  },
  {
   "cell_type": "code",
   "execution_count": 464,
   "outputs": [],
   "source": [
    "y_pred = clf1.predict(X_test)\n",
    "\n",
    "submission = pd.DataFrame({\n",
    "    \"PassengerId\" : df_test.PassengerId,\n",
    "    \"Survived\" : y_pred\n",
    "})\n",
    "\n",
    "submission.to_csv(\"submission.csv\", index=False)"
   ],
   "metadata": {
    "collapsed": false,
    "pycharm": {
     "name": "#%%\n"
    }
   }
  }
 ],
 "metadata": {
  "kernelspec": {
   "display_name": "Python 3",
   "language": "python",
   "name": "python3"
  },
  "language_info": {
   "codemirror_mode": {
    "name": "ipython",
    "version": 2
   },
   "file_extension": ".py",
   "mimetype": "text/x-python",
   "name": "python",
   "nbconvert_exporter": "python",
   "pygments_lexer": "ipython2",
   "version": "2.7.6"
  }
 },
 "nbformat": 4,
 "nbformat_minor": 0
}